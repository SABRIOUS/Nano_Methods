{
 "cells": [
  {
   "cell_type": "code",
   "execution_count": 1,
   "metadata": {},
   "outputs": [],
   "source": [
    "import numpy as np\n",
    "import pandas as pd\n",
    "import matplotlib.pyplot as plt\n",
    "import time\n",
    "%matplotlib inline\n",
    "import re"
   ]
  },
  {
   "cell_type": "markdown",
   "metadata": {},
   "source": [
    "# Four Aspects for Quantitative Data\n",
    "\n",
    "### There are four main aspects to analyzing Quantitative data.\n",
    "\n",
    "- Measures of Center  `Mean, Median, Mode`\n",
    "- Measures of Spread\n",
    "- The Shape of the data.\n",
    "- Outliers\n"
   ]
  },
  {
   "cell_type": "markdown",
   "metadata": {},
   "source": [
    "# Measures of Spread\n",
    "\n",
    "### Measures of Spread are used to provide us an idea of how spread out our data are from one another. Common measures of spread include:\n",
    "\n",
    "- Range\n",
    "- Interquartile Range (IQR)\n",
    "- Standard Deviation\n",
    "- Variance\n"
   ]
  },
  {
   "cell_type": "markdown",
   "metadata": {},
   "source": [
    "# Shape\n",
    "\n",
    "## We learned that the distribution of our data is frequently associated with one of the three shapes:\n",
    "\n",
    "1. Right-skewed\n",
    "\n",
    "2. Left-skewed\n",
    "\n",
    "3. Symmetric (frequently normally distributed)\n",
    "\n",
    "### Depending on the shape associated with our dataset, certain measures of center or spread may be better for summarizing our dataset.\n",
    "\n",
    "### When we have data that follows a normal distribution, we can completely understand our dataset using the mean and standard deviation.\n",
    "\n",
    "### However, if our dataset is skewed, the 5 number summary (and measures of center associated with it) might be better to summarize our dataset.\n",
    "# Outliers\n",
    "\n",
    "We learned that outliers have a larger influence on measures like the mean than on measures like the median. We learned that we should work with outliers on a situation by situation basis. Common techniques include:\n",
    "\n",
    "1. At least note they exist and the impact on summary statistics.\n",
    "\n",
    "2. If typo - remove or fix\n",
    "\n",
    "3. Understand why they exist, and the impact on questions we are trying to answer about our data.\n",
    "\n",
    "4. Reporting the 5 number summary values is often a better indication than measures like the mean and standard deviation when we have outliers.\n",
    "\n",
    "5. Be careful in reporting. Know how to ask the right questions.\n",
    "\n",
    "\n",
    "# Descriptive Statistics\n",
    "\n",
    "### Descriptive statistics is about describing our collected data.\n",
    "# Inferential Statistics\n",
    "\n",
    "### Inferential Statistics is about using our collected data to draw conclusions to a larger population.\n",
    "\n",
    "#### We looked at specific examples that allowed us to identify the\n",
    "\n",
    "- Population - our entire group of interest.\n",
    "- Parameter - numeric summary about a population\n",
    "- Sample - subset of the population\n",
    "- Statistic numeric summary about a sample\n"
   ]
  },
  {
   "cell_type": "code",
   "execution_count": 50,
   "metadata": {},
   "outputs": [],
   "source": [
    "# Repeat the above to obtain 10,000 additional proportions,\n",
    "# where each sample was of size 5. Store these in a variable called sample_props.\n",
    "# عينة مكونة من 10000 كل صف 5 ارقام \n",
    "sample_props = []\n",
    "for _ in range(10000):\n",
    "    sample = np.random.choice(students, 5, replace=True)\n",
    "    sample_props.append(sample.mean())\n",
    "sample_tweenty = np.array(sample_props)"
   ]
  },
  {
   "cell_type": "code",
   "execution_count": 2,
   "metadata": {},
   "outputs": [],
   "source": [
    "# np.random.seed(42)\n",
    "\n",
    "# full_data = pd.read_csv('coffee_dataset.csv')\n",
    "# sample_data = full_data.sample(200)\n",
    "# -------------------------------\n",
    "# diff = []\n",
    "# for _ in range(1000):\n",
    "#     boot = sample_data.sample(200,replace=True)\n",
    "#     mean_drink = boot[boot['drinks_coffee']==True]['height'].mean()\n",
    "#     mean_not_drink = boot[boot['drinks_coffee']==False]['height'].mean()\n",
    "#     d = mean_drink - mean_not_drink\n",
    "#     diff.append(d)"
   ]
  },
  {
   "cell_type": "markdown",
   "metadata": {},
   "source": [
    "Remember that all parameters pertain to a population, while all statistics pertain to a sample.: \n",
    "![alt text](1.png \"Logo Title Text 1\")\n",
    "\n",
    "\n"
   ]
  },
  {
   "cell_type": "markdown",
   "metadata": {},
   "source": [
    "------------------------------------"
   ]
  },
  {
   "cell_type": "markdown",
   "metadata": {},
   "source": [
    "![alt text](hyp.png \"Hypothesis\")"
   ]
  },
  {
   "cell_type": "markdown",
   "metadata": {},
   "source": [
    "-----------------------------"
   ]
  },
  {
   "cell_type": "markdown",
   "metadata": {},
   "source": [
    "![alt text](type.png \"Type of error\")"
   ]
  },
  {
   "cell_type": "code",
   "execution_count": 2,
   "metadata": {},
   "outputs": [],
   "source": [
    "np.random.seed(42)\n",
    "\n",
    "full_data = pd.read_csv('coffee_dataset.csv')\n",
    "sample_data = full_data.sample(200)"
   ]
  },
  {
   "cell_type": "code",
   "execution_count": 4,
   "metadata": {},
   "outputs": [],
   "source": [
    "mean = []\n",
    "drinkers = []\n",
    "not_drinkes = []\n",
    "for _ in range(10000):\n",
    "    bootstrap = sample_data.sample(200,replace=True)\n",
    "    drinke_coffee = bootstrap[bootstrap['drinks_coffee']==True]['height'].mean()\n",
    "    not_drink = bootstrap[bootstrap['drinks_coffee']==False]['height'].mean()\n",
    "    diff = drinke_coffee - not_drink\n",
    "    drinkers.append(drinke_coffee)\n",
    "    not_drinkes.append(not_drinkes)\n",
    "    mean.append(diff)\n",
    "    "
   ]
  },
  {
   "cell_type": "code",
   "execution_count": null,
   "metadata": {},
   "outputs": [],
   "source": [
    "not_drinkes"
   ]
  },
  {
   "cell_type": "code",
   "execution_count": null,
   "metadata": {},
   "outputs": [],
   "source": []
  },
  {
   "cell_type": "code",
   "execution_count": null,
   "metadata": {},
   "outputs": [],
   "source": []
  },
  {
   "cell_type": "code",
   "execution_count": null,
   "metadata": {},
   "outputs": [],
   "source": []
  },
  {
   "cell_type": "code",
   "execution_count": null,
   "metadata": {},
   "outputs": [],
   "source": []
  },
  {
   "cell_type": "code",
   "execution_count": null,
   "metadata": {},
   "outputs": [],
   "source": []
  }
 ],
 "metadata": {
  "kernelspec": {
   "display_name": "Python 3",
   "language": "python",
   "name": "python3"
  },
  "language_info": {
   "codemirror_mode": {
    "name": "ipython",
    "version": 3
   },
   "file_extension": ".py",
   "mimetype": "text/x-python",
   "name": "python",
   "nbconvert_exporter": "python",
   "pygments_lexer": "ipython3",
   "version": "3.8.3"
  }
 },
 "nbformat": 4,
 "nbformat_minor": 4
}
