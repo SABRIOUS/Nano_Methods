{
 "cells": [
  {
   "cell_type": "markdown",
   "metadata": {},
   "source": [
    "# <center>بسم الله الرحمن الرحيم</center>\n"
   ]
  },
  {
   "cell_type": "code",
   "execution_count": null,
   "metadata": {},
   "outputs": [],
   "source": [
    "# df = pd.read_csv(\"*__*\")\n",
    "# df.head()\n",
    "# df.shape\n",
    "# sometimes you need to change the data type so info will tell you the right and the wrong data type\n",
    "# df.info()\n",
    "# df.describe()\n",
    "\n",
    "# sometimes you need to change the data type so info will tell you the right and the wrong data type\n",
    "# df.info()"
   ]
  },
  {
   "cell_type": "code",
   "execution_count": null,
   "metadata": {},
   "outputs": [],
   "source": [
    "# variable contains true and false values in this data frame\n",
    "# missing_data = df.isna()\n",
    "# for col in missing_data:\n",
    "#     print(\"Column: \",col)\n",
    "#     print(missing_data[col].value_counts())\n",
    "#     print(\"-\"*50+\"\\n\")"
   ]
  },
  {
   "cell_type": "code",
   "execution_count": 1,
   "metadata": {},
   "outputs": [],
   "source": [
    "# df['column_name'].value_counts()"
   ]
  },
  {
   "cell_type": "code",
   "execution_count": 2,
   "metadata": {},
   "outputs": [],
   "source": [
    "# df.dtypes"
   ]
  },
  {
   "cell_type": "code",
   "execution_count": 6,
   "metadata": {},
   "outputs": [],
   "source": [
    "# df.nunique()\n",
    "# for large data set use sum(df.duplicated())"
   ]
  },
  {
   "cell_type": "code",
   "execution_count": 7,
   "metadata": {},
   "outputs": [],
   "source": [
    "# change the type of specefic column\n",
    "\n",
    "# df['End Time'] = pd.to_datetime(df['End Time'])"
   ]
  },
  {
   "cell_type": "code",
   "execution_count": 4,
   "metadata": {},
   "outputs": [],
   "source": [
    "# use means to fill in missing values\n",
    "# mean_texture = df['texture_mean'].mean()  good for simple code\n",
    "\n",
    "# df['texture_mean'].fillna(df['texture_mean'].mean(),inplace=True)\n",
    "\n",
    "# df['smoothness_mean'].fillna(df['smoothness_mean'].mean(),inplace=True)\n",
    "\n",
    "# df['symmetry_mean'].fillna(df['symmetry_mean'].mean(),inplace=True)\n",
    "\n",
    "\n",
    "# ----------------------------\n",
    "# GooooooD Idea\n",
    "\n",
    "# df.fillna(df.mean(), inplace=True)"
   ]
  },
  {
   "cell_type": "code",
   "execution_count": 2,
   "metadata": {},
   "outputs": [],
   "source": [
    "#df.duplicated()\n",
    "# sum(df.duplicated()) to know how many duplicated value\n",
    "\n",
    "# df.drop_duplicates(inplace=True)\n",
    "# to check again\n",
    "# sum(df.duplicated())"
   ]
  },
  {
   "cell_type": "code",
   "execution_count": 5,
   "metadata": {},
   "outputs": [],
   "source": [
    "# visualizing pandas \n",
    "# %matplotlib inline\n",
    "\n",
    "\n",
    "# plot relationship between temperature and electrical output\n",
    "# df.plot(x='temperature', y='energy_output', kind='scatter');\n",
    "\n",
    "# # plot distribution of humidity\n",
    "# df['humidity'].hist();\n",
    "\n",
    "# df['temperature'].plot(kind='box');\n",
    "\n",
    "\n",
    "# Multible Box Plot\n",
    "# df[['storeA','storeB','storeC']].plot(kind='box')"
   ]
  },
  {
   "cell_type": "code",
   "execution_count": null,
   "metadata": {},
   "outputs": [],
   "source": [
    "# Another_Way\n",
    "\n",
    "# df.hist(figsize=(8, 8)); will remove other non numerical data\n",
    "\n",
    "# --------\n",
    "# total sales for the last month\n",
    "# df.iloc[196:, 1:].sum()\n",
    "# from 196 to the end of row and 1: from column one to the edn\n",
    "# -----------\n",
    "\n",
    "# worst week for store C\n",
    "# df[df['storeC'] == df['storeC'].min()]\n",
    "# or df['storeC'].idxmin()\n",
    "\n",
    "# ---------\n",
    "\n",
    "# Important\n",
    "# total sales during most recent 3 month period\n",
    "# df.tail(20) show us the last three months start from 2017/12 to 2018/2\n",
    "# the last month\n",
    "# last_three_months = df[df['week'] >= '2017-12-01']\n",
    "# last_three_months.iloc[:, 1:].sum()  # exclude sum of week column\n",
    "# short way df[df['week']>='2017-12-01'].sum()\n",
    "\n",
    "# ------------------\n",
    "\n"
   ]
  },
  {
   "cell_type": "code",
   "execution_count": null,
   "metadata": {},
   "outputs": [],
   "source": []
  }
 ],
 "metadata": {
  "kernelspec": {
   "display_name": "Python 3",
   "language": "python",
   "name": "python3"
  },
  "language_info": {
   "codemirror_mode": {
    "name": "ipython",
    "version": 3
   },
   "file_extension": ".py",
   "mimetype": "text/x-python",
   "name": "python",
   "nbconvert_exporter": "python",
   "pygments_lexer": "ipython3",
   "version": "3.7.6"
  }
 },
 "nbformat": 4,
 "nbformat_minor": 4
}
